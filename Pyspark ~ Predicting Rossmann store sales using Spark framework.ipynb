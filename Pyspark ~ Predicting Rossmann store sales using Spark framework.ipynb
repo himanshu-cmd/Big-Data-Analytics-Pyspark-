{
 "cells": [
  {
   "cell_type": "markdown",
   "metadata": {},
   "source": [
    "# Predicting Rossmann store sales using Spark framework"
   ]
  },
  {
   "cell_type": "code",
   "execution_count": 1,
   "metadata": {},
   "outputs": [],
   "source": [
    "import findspark\n",
    "findspark.init()\n",
    "\n",
    "import pyspark\n",
    "from pyspark import SparkContext\n",
    "from pyspark.sql import SparkSession\n",
    "from pyspark.sql import SQLContext\n",
    "from pyspark import SparkContext\n",
    "import pandas as pd\n",
    "\n",
    "sc=SparkContext('local','ex1')  # if using locally\n",
    "sql_sc=SQLContext(sc)"
   ]
  },
  {
   "cell_type": "code",
   "execution_count": 2,
   "metadata": {},
   "outputs": [],
   "source": [
    "spark=SparkSession.builder.appName('data_processing').getOrCreate()\n",
    "\n",
    "df1=spark.read.csv('G:/Big_data_homework/store_sales/store.csv', inferSchema=True,header=True)\n",
    "df_train=spark.read.csv('G:/Big_data_homework/store_sales/train.csv',inferSchema=True,header=True)\n",
    "df_test=spark.read.csv('G:/Big_data_homework/store_sales/test.csv',inferSchema=True,header=True)"
   ]
  },
  {
   "cell_type": "code",
   "execution_count": 4,
   "metadata": {},
   "outputs": [],
   "source": [
    "tr1=df_train.join(df1,df_train.Store==df1.Store,'left_outer')\n",
    "ts1=df_test.join(df1,df_test.Store==df1.Store,'left_outer')"
   ]
  },
  {
   "cell_type": "code",
   "execution_count": 5,
   "metadata": {},
   "outputs": [
    {
     "data": {
      "text/plain": [
       "[Row(Store=1, DayOfWeek=5, Date='2015-07-31', Sales=5263, Customers=555, Open=1, Promo=1, StateHoliday='0', SchoolHoliday=1, Store=1, StoreType='c', Assortment='a', CompetitionDistance=1270, CompetitionOpenSinceMonth=9, CompetitionOpenSinceYear=2008, Promo2=0, Promo2SinceWeek=None, Promo2SinceYear=None, PromoInterval=None),\n",
       " Row(Store=2, DayOfWeek=5, Date='2015-07-31', Sales=6064, Customers=625, Open=1, Promo=1, StateHoliday='0', SchoolHoliday=1, Store=2, StoreType='a', Assortment='a', CompetitionDistance=570, CompetitionOpenSinceMonth=11, CompetitionOpenSinceYear=2007, Promo2=1, Promo2SinceWeek=13, Promo2SinceYear=2010, PromoInterval='Jan,Apr,Jul,Oct')]"
      ]
     },
     "execution_count": 5,
     "metadata": {},
     "output_type": "execute_result"
    }
   ],
   "source": [
    "tr1.head(2)"
   ]
  },
  {
   "cell_type": "code",
   "execution_count": 6,
   "metadata": {},
   "outputs": [
    {
     "data": {
      "text/plain": [
       "[Row(Id=1, Store=1, DayOfWeek=4, Date='2015-09-17', Open=1, Promo=1, StateHoliday='0', SchoolHoliday=0, Store=1, StoreType='c', Assortment='a', CompetitionDistance=1270, CompetitionOpenSinceMonth=9, CompetitionOpenSinceYear=2008, Promo2=0, Promo2SinceWeek=None, Promo2SinceYear=None, PromoInterval=None),\n",
       " Row(Id=2, Store=3, DayOfWeek=4, Date='2015-09-17', Open=1, Promo=1, StateHoliday='0', SchoolHoliday=0, Store=3, StoreType='a', Assortment='a', CompetitionDistance=14130, CompetitionOpenSinceMonth=12, CompetitionOpenSinceYear=2006, Promo2=1, Promo2SinceWeek=14, Promo2SinceYear=2011, PromoInterval='Jan,Apr,Jul,Oct')]"
      ]
     },
     "execution_count": 6,
     "metadata": {},
     "output_type": "execute_result"
    }
   ],
   "source": [
    "ts1.head(2)"
   ]
  },
  {
   "cell_type": "code",
   "execution_count": 7,
   "metadata": {},
   "outputs": [
    {
     "name": "stdout",
     "output_type": "stream",
     "text": [
      "root\n",
      " |-- Store: integer (nullable = true)\n",
      " |-- DayOfWeek: integer (nullable = true)\n",
      " |-- Date: string (nullable = true)\n",
      " |-- Sales: integer (nullable = true)\n",
      " |-- Customers: integer (nullable = true)\n",
      " |-- Open: integer (nullable = true)\n",
      " |-- Promo: integer (nullable = true)\n",
      " |-- StateHoliday: string (nullable = true)\n",
      " |-- SchoolHoliday: integer (nullable = true)\n",
      " |-- Store: integer (nullable = true)\n",
      " |-- StoreType: string (nullable = true)\n",
      " |-- Assortment: string (nullable = true)\n",
      " |-- CompetitionDistance: integer (nullable = true)\n",
      " |-- CompetitionOpenSinceMonth: integer (nullable = true)\n",
      " |-- CompetitionOpenSinceYear: integer (nullable = true)\n",
      " |-- Promo2: integer (nullable = true)\n",
      " |-- Promo2SinceWeek: integer (nullable = true)\n",
      " |-- Promo2SinceYear: integer (nullable = true)\n",
      " |-- PromoInterval: string (nullable = true)\n",
      "\n"
     ]
    }
   ],
   "source": [
    "tr1.printSchema()"
   ]
  },
  {
   "cell_type": "markdown",
   "metadata": {},
   "source": []
  },
  {
   "cell_type": "code",
   "execution_count": 8,
   "metadata": {},
   "outputs": [],
   "source": [
    "trn1=tr1.select(['DayOfWeek','Customers','Open','Promo','StateHoliday','SchoolHoliday','StoreType','Assortment',\n",
    "                  'CompetitionDistance','CompetitionOpenSinceYear','Promo2','Promo2SinceYear','PromoInterval','Sales'])"
   ]
  },
  {
   "cell_type": "code",
   "execution_count": 9,
   "metadata": {},
   "outputs": [
    {
     "name": "stdout",
     "output_type": "stream",
     "text": [
      "root\n",
      " |-- DayOfWeek: integer (nullable = true)\n",
      " |-- Customers: integer (nullable = true)\n",
      " |-- Open: integer (nullable = true)\n",
      " |-- Promo: integer (nullable = true)\n",
      " |-- StateHoliday: string (nullable = true)\n",
      " |-- SchoolHoliday: integer (nullable = true)\n",
      " |-- StoreType: string (nullable = true)\n",
      " |-- Assortment: string (nullable = true)\n",
      " |-- CompetitionDistance: integer (nullable = true)\n",
      " |-- CompetitionOpenSinceYear: integer (nullable = true)\n",
      " |-- Promo2: integer (nullable = true)\n",
      " |-- Promo2SinceYear: integer (nullable = true)\n",
      " |-- PromoInterval: string (nullable = true)\n",
      " |-- Sales: integer (nullable = true)\n",
      "\n"
     ]
    }
   ],
   "source": [
    "trn1.printSchema()"
   ]
  },
  {
   "cell_type": "code",
   "execution_count": 10,
   "metadata": {},
   "outputs": [],
   "source": [
    "train_data_final = trn1.na.drop()"
   ]
  },
  {
   "cell_type": "code",
   "execution_count": 12,
   "metadata": {},
   "outputs": [],
   "source": [
    "from pyspark.ml.feature import VectorAssembler,OneHotEncoder,StringIndexer\n",
    "\n",
    "idx1=StringIndexer(inputCol='StateHoliday',outputCol='i1').fit(train_data_final).transform(train_data_final)\n",
    "idx2=StringIndexer(inputCol='StoreType',outputCol='i2').fit(idx1).transform(idx1)\n",
    "idx3=StringIndexer(inputCol='Assortment',outputCol='i3').fit(idx2).transform(idx2)\n",
    "idx4=StringIndexer(inputCol='PromoInterval',outputCol='i4').fit(idx3).transform(idx3)"
   ]
  },
  {
   "cell_type": "code",
   "execution_count": 23,
   "metadata": {},
   "outputs": [],
   "source": [
    "assembler=VectorAssembler(inputCols=['DayOfWeek','Customers','Open','Promo','SchoolHoliday','CompetitionDistance','Promo2',\n",
    "                                     'CompetitionOpenSinceYear','Promo2SinceYear','i1','i2','i3','i4'],outputCol='features')\n",
    "trn_vect=assembler.transform(idx4)"
   ]
  },
  {
   "cell_type": "code",
   "execution_count": 24,
   "metadata": {},
   "outputs": [],
   "source": [
    "model_df=trn_vect.select('features','Sales')"
   ]
  },
  {
   "cell_type": "code",
   "execution_count": 25,
   "metadata": {},
   "outputs": [
    {
     "data": {
      "text/plain": [
       "[Row(features=DenseVector([5.0, 625.0, 1.0, 1.0, 1.0, 570.0, 1.0, 2007.0, 2010.0, 0.0, 0.0, 0.0, 0.0]), Sales=6064),\n",
       " Row(features=DenseVector([5.0, 821.0, 1.0, 1.0, 1.0, 14130.0, 1.0, 2006.0, 2011.0, 0.0, 0.0, 0.0, 0.0]), Sales=8314),\n",
       " Row(features=DenseVector([5.0, 1236.0, 1.0, 1.0, 1.0, 960.0, 1.0, 2011.0, 2012.0, 0.0, 0.0, 1.0, 0.0]), Sales=10457)]"
      ]
     },
     "execution_count": 25,
     "metadata": {},
     "output_type": "execute_result"
    }
   ],
   "source": [
    "model_df.head(3)"
   ]
  },
  {
   "cell_type": "code",
   "execution_count": 42,
   "metadata": {},
   "outputs": [],
   "source": [
    "# Test file supplied with this cse study doen't contain \"customer\" column so its nat same as train data; \n",
    "                                                                                        #    that's why not used for testing.\n",
    "\n",
    "train_data,test_data = model_df.randomSplit([0.7,0.3])"
   ]
  },
  {
   "cell_type": "code",
   "execution_count": 43,
   "metadata": {},
   "outputs": [],
   "source": [
    "from pyspark.ml.regression import LinearRegression\n",
    "\n",
    "lin_Reg=LinearRegression(labelCol='Sales')\n",
    "lr_model=lin_Reg.fit(train_data)"
   ]
  },
  {
   "cell_type": "code",
   "execution_count": 44,
   "metadata": {},
   "outputs": [
    {
     "name": "stdout",
     "output_type": "stream",
     "text": [
      "0.8836492062131855\n"
     ]
    }
   ],
   "source": [
    "training_predictions=lr_model.evaluate(train_data)\n",
    "print(training_predictions.r2)"
   ]
  },
  {
   "cell_type": "code",
   "execution_count": 46,
   "metadata": {},
   "outputs": [
    {
     "name": "stdout",
     "output_type": "stream",
     "text": [
      "0.8830567597503829\n",
      "1436316.6789211857\n"
     ]
    }
   ],
   "source": [
    "test_predictions=lr_model.evaluate(test_data)\n",
    "print(test_predictions.r2)\n",
    "print(test_predictions.meanSquaredError)"
   ]
  },
  {
   "cell_type": "code",
   "execution_count": null,
   "metadata": {},
   "outputs": [],
   "source": []
  },
  {
   "cell_type": "code",
   "execution_count": null,
   "metadata": {},
   "outputs": [],
   "source": []
  },
  {
   "cell_type": "code",
   "execution_count": null,
   "metadata": {},
   "outputs": [],
   "source": []
  },
  {
   "cell_type": "code",
   "execution_count": null,
   "metadata": {},
   "outputs": [],
   "source": []
  },
  {
   "cell_type": "code",
   "execution_count": null,
   "metadata": {},
   "outputs": [],
   "source": []
  }
 ],
 "metadata": {
  "kernelspec": {
   "display_name": "Python 3",
   "language": "python",
   "name": "python3"
  },
  "language_info": {
   "codemirror_mode": {
    "name": "ipython",
    "version": 3
   },
   "file_extension": ".py",
   "mimetype": "text/x-python",
   "name": "python",
   "nbconvert_exporter": "python",
   "pygments_lexer": "ipython3",
   "version": "3.7.7"
  }
 },
 "nbformat": 4,
 "nbformat_minor": 4
}
